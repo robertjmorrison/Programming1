{
 "cells": [
  {
   "cell_type": "markdown",
   "metadata": {},
   "source": [
    "# Using Jupyter Lab\n",
    "\n",
    "#### Starting, Stopping and Restarting\n",
    "\n",
    "To start jupyter lab, open terminal (macOS) or command prompt (Windows) and simply type \"jupyter lab\". Wait a few seconds and some information should start to appear, and Jupyter will open in your web browser. \n",
    "\n",
    "To stop jupyter lab, simply close the web browser *and* the terminal/command prompt window. When closing the terminal window, it may ask you if you are sure you want to terminate the process, click yes.\n",
    "\n",
    "Some students have had an issue where code will not run. Restarting seems to fix the issue. So if this happens to you, follow the instructions to stop and then start jupyter lab. You shouldn't lose any work as jupyter saves your changes automatically. \n",
    "\n"
   ]
  },
  {
   "cell_type": "markdown",
   "metadata": {},
   "source": [
    "#### Types of input\n",
    "\n",
    "Jupyter lab allows you to type \"markdown\", \"code\" and \"raw\". Markdown means you can style the text, a bit like MS Word. Code is python code that can be run. \"Raw\" is plain text, something like Windows notepad. Note you will need to \"run\" the markdown for your changes to happen"
   ]
  },
  {
   "cell_type": "markdown",
   "metadata": {},
   "source": [
    "#### Working with Jupyter\n",
    "\n",
    "You are free to edit anything in this document - markup, raw or code.\n",
    "\n",
    "For code, click on the code area and press the run button (looks like a play button) at the top of the screen."
   ]
  },
  {
   "cell_type": "markdown",
   "metadata": {},
   "source": [
    "#### Your notes\n",
    "\n",
    "If you need to note anything else down about how to use jupyter, you can write it here. "
   ]
  },
  {
   "cell_type": "code",
   "execution_count": null,
   "metadata": {},
   "outputs": [],
   "source": []
  }
 ],
 "metadata": {
  "kernelspec": {
   "display_name": "Python 3",
   "language": "python",
   "name": "python3"
  },
  "language_info": {
   "codemirror_mode": {
    "name": "ipython",
    "version": 3
   },
   "file_extension": ".py",
   "mimetype": "text/x-python",
   "name": "python",
   "nbconvert_exporter": "python",
   "pygments_lexer": "ipython3",
   "version": "3.7.4"
  }
 },
 "nbformat": 4,
 "nbformat_minor": 4
}
