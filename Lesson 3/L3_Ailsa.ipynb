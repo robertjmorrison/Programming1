{
 "cells": [
  {
   "cell_type": "markdown",
   "metadata": {},
   "source": [
    "# Programming I Lesson 3\n",
    "\n",
    "#### In this lesson, you will learn:\n",
    "\n",
    "- iteration \n",
    "- subroutines\n",
    "\n"
   ]
  },
  {
   "cell_type": "markdown",
   "metadata": {},
   "source": [
    "### Iteration\n",
    "\n",
    "To \"iterate\" means something like \"to repeat\". So iteration is the idea of repeating the same block of code multiple times.\n",
    "\n",
    "Look at this example program"
   ]
  },
  {
   "cell_type": "code",
   "execution_count": 1,
   "metadata": {},
   "outputs": [
    {
     "name": "stdout",
     "output_type": "stream",
     "text": [
      "Class Grades: \n",
      "Annie: A*\n",
      "Alex: A*\n",
      "Ailsa: A*\n",
      "Jackson: A*\n",
      "Tatum: A*\n",
      "Vicky: A*\n"
     ]
    }
   ],
   "source": [
    "print(\"Class Grades: \")\n",
    "print(\"Annie: A*\")\n",
    "print(\"Alex: A*\")\n",
    "print(\"Ailsa: A*\")\n",
    "print(\"Jackson: A*\")\n",
    "print(\"Tatum: A*\")\n",
    "print(\"Vicky: A*\")"
   ]
  },
  {
   "cell_type": "markdown",
   "metadata": {},
   "source": [
    "This code works no problem. But actually, I made a mistake. The school requires me to use a \"-\" instead of an \":\". So now, I need to go back and change each one individually. Not a huge amount of work because this is a small class, but I teach about 130 kids in 4th and 5th grade. Can you imagine if I had to go back and manually edit 130 lines of code just to change one symbol? Crazy! It's also quite wasteful in terms of memory and file size to write hundreds of lines of code that all basically do the same thing. \n",
    "\n",
    "Thankfully, there is a better way. And today we will learn that better way."
   ]
  },
  {
   "cell_type": "markdown",
   "metadata": {},
   "source": [
    "#### FOR loop"
   ]
  },
  {
   "cell_type": "markdown",
   "metadata": {},
   "source": [
    "Try this code:"
   ]
  },
  {
   "cell_type": "code",
   "execution_count": 2,
   "metadata": {},
   "outputs": [
    {
     "name": "stdout",
     "output_type": "stream",
     "text": [
      "hello!\n",
      "hello!\n",
      "hello!\n",
      "hello!\n",
      "hello!\n",
      "hello!\n",
      "hello!\n",
      "hello!\n",
      "hello!\n"
     ]
    }
   ],
   "source": [
    "for i in range(1,10):\n",
    "    print(\"hello!\")"
   ]
  },
  {
   "cell_type": "markdown",
   "metadata": {},
   "source": [
    "This is an example of a for loop. It is a really useful tool in programming.\n",
    "\n",
    "A for loop is used when we know in advance how many times we want something to repeat. In pseudocode I may write it like this:"
   ]
  },
  {
   "cell_type": "raw",
   "metadata": {},
   "source": [
    "FOR i 1 TO 10\n",
    "    PRINT hello world\n",
    "NEXT"
   ]
  },
  {
   "cell_type": "markdown",
   "metadata": {},
   "source": [
    "So what is actually happening here?\n",
    "\n",
    "In the first line we tell the interpreter how many times we want the loop to run. In Python this is actually slightly more complicated than other languages, but still easy. \n",
    "\n",
    "i is a variable which stores the number of times the loop has been executed this time. It will automatically increase by 1 each time the loop runs. \n",
    "\n",
    "range(a, b) - a is what the initial value of i will be, b is at what value the loop will stop. Note that this is exclusive - meaning if I do range(1,10) the loop will run 9 times. Remember this, it's easy to forget!\n",
    "\n",
    "Let's illustrate this:"
   ]
  },
  {
   "cell_type": "code",
   "execution_count": 3,
   "metadata": {},
   "outputs": [
    {
     "name": "stdout",
     "output_type": "stream",
     "text": [
      "the value of i is 0\n",
      "the value of i is 1\n",
      "the value of i is 2\n",
      "the value of i is 3\n",
      "the value of i is 4\n",
      "the value of i is 5\n",
      "the value of i is 6\n",
      "the value of i is 7\n",
      "the value of i is 8\n",
      "the value of i is 9\n"
     ]
    }
   ],
   "source": [
    "for i in range(0, 10):\n",
    "    print(\"the value of i is \" + str(i))"
   ]
  },
  {
   "cell_type": "markdown",
   "metadata": {},
   "source": [
    "We can also use variables in the range. This makes FOR loops a lot more useful. Try changing the a and b values below. Can you make the loop run 23 times? Don't edit the range(a, b) part of the code. "
   ]
  },
  {
   "cell_type": "code",
   "execution_count": 6,
   "metadata": {},
   "outputs": [
    {
     "name": "stdout",
     "output_type": "stream",
     "text": [
      "completed 0 of 22\n",
      "completed 1 of 22\n",
      "completed 2 of 22\n",
      "completed 3 of 22\n",
      "completed 4 of 22\n",
      "completed 5 of 22\n",
      "completed 6 of 22\n",
      "completed 7 of 22\n",
      "completed 8 of 22\n",
      "completed 9 of 22\n",
      "completed 10 of 22\n",
      "completed 11 of 22\n",
      "completed 12 of 22\n",
      "completed 13 of 22\n",
      "completed 14 of 22\n",
      "completed 15 of 22\n",
      "completed 16 of 22\n",
      "completed 17 of 22\n",
      "completed 18 of 22\n",
      "completed 19 of 22\n",
      "completed 20 of 22\n",
      "completed 21 of 22\n",
      "completed 22 of 22\n"
     ]
    }
   ],
   "source": [
    "a = 0 \n",
    "b = 23\n",
    "\n",
    "for i in range(a, b):\n",
    "    print(\"completed \" + str(i) + \" of \" + str(b-1))"
   ]
  },
  {
   "cell_type": "markdown",
   "metadata": {},
   "source": [
    "The other thing to pay attention to is that you must add a colon (:) at the end of the first line, and everything must be indented from that point on in the loop. If you break the indentation, the code will not be regarded as part of the loop. Try the code below to verify this. "
   ]
  },
  {
   "cell_type": "code",
   "execution_count": 10,
   "metadata": {},
   "outputs": [
    {
     "name": "stdout",
     "output_type": "stream",
     "text": [
      "1in the loop\n",
      "2also in the loop\n",
      "3not in the loop\n",
      "2in the loop\n",
      "3also in the loop\n",
      "4not in the loop\n",
      "3in the loop\n",
      "4also in the loop\n",
      "5not in the loop\n",
      "4in the loop\n",
      "5also in the loop\n",
      "6not in the loop\n"
     ]
    }
   ],
   "source": [
    "for i in range(1,5):\n",
    "    print(str(i)+\"in the loop\")\n",
    "    print(str(i+1)+\"also in the loop\")\n",
    "    print(str(i+2)+\"not in the loop\")"
   ]
  },
  {
   "cell_type": "markdown",
   "metadata": {},
   "source": [
    "#### Exercise\n",
    "\n",
    "Write a program to ask a user to input the number of students in a class. For each student in the class, output \"Student Number x\" with x being an integer. The output should look like this:"
   ]
  },
  {
   "cell_type": "raw",
   "metadata": {},
   "source": [
    "Student Number 1\n",
    "Student Number 2\n",
    "Student Number 3\n",
    "...\n",
    "Student Number 50"
   ]
  },
  {
   "cell_type": "code",
   "execution_count": 14,
   "metadata": {},
   "outputs": [
    {
     "name": "stdout",
     "output_type": "stream",
     "text": [
      "Student Number 1\n",
      "Student Number 2\n",
      "Student Number 3\n",
      "Student Number 4\n",
      "Student Number 5\n",
      "Student Number 6\n",
      "Student Number 7\n",
      "Student Number 8\n",
      "Student Number 9\n",
      "Student Number 10\n",
      "Student Number 11\n",
      "Student Number 12\n",
      "Student Number 13\n",
      "Student Number 14\n",
      "Student Number 15\n",
      "Student Number 16\n",
      "Student Number 17\n",
      "Student Number 18\n",
      "Student Number 19\n",
      "Student Number 20\n",
      "Student Number 21\n",
      "Student Number 22\n",
      "Student Number 23\n",
      "Student Number 24\n",
      "Student Number 25\n",
      "Student Number 26\n",
      "Student Number 27\n",
      "Student Number 28\n",
      "Student Number 29\n",
      "Student Number 30\n",
      "Student Number 31\n",
      "Student Number 32\n",
      "Student Number 33\n",
      "Student Number 34\n",
      "Student Number 35\n",
      "Student Number 36\n",
      "Student Number 37\n",
      "Student Number 38\n",
      "Student Number 39\n",
      "Student Number 40\n",
      "Student Number 41\n",
      "Student Number 42\n",
      "Student Number 43\n",
      "Student Number 44\n",
      "Student Number 45\n",
      "Student Number 46\n",
      "Student Number 47\n",
      "Student Number 48\n",
      "Student Number 49\n"
     ]
    }
   ],
   "source": [
    "for i in range(1,50):\n",
    "    print(\"Student Number \"+str(i) )\n",
    "    "
   ]
  },
  {
   "cell_type": "markdown",
   "metadata": {},
   "source": [
    "#### WHILE loop\n",
    "\n",
    "This loop will execute a block of code forever, until a condition is met. This is really useful for situations where we don't know in advance how many times we need to iterate.\n",
    "\n",
    "We can use this to create an application menu. See below:"
   ]
  },
  {
   "cell_type": "code",
   "execution_count": 15,
   "metadata": {},
   "outputs": [
    {
     "name": "stdout",
     "output_type": "stream",
     "text": [
      "1. Withdraw   100 RMB\n",
      "2. Withdraw   500 RMB\n",
      "3. Withdraw  1000 RMB\n",
      "4. Withdraw  3000 RMB\n",
      "5. Withdraw 10000 RMB\n",
      "6. Cancel\n"
     ]
    },
    {
     "name": "stdin",
     "output_type": "stream",
     "text": [
      "enter your choice:  1\n"
     ]
    },
    {
     "name": "stdout",
     "output_type": "stream",
     "text": [
      "给你一百块\n",
      "1. Withdraw   100 RMB\n",
      "2. Withdraw   500 RMB\n",
      "3. Withdraw  1000 RMB\n",
      "4. Withdraw  3000 RMB\n",
      "5. Withdraw 10000 RMB\n",
      "6. Cancel\n"
     ]
    },
    {
     "name": "stdin",
     "output_type": "stream",
     "text": [
      "enter your choice:  6\n"
     ]
    }
   ],
   "source": [
    "choice = 0\n",
    "\n",
    "while choice != 6:\n",
    "    print(\"1. Withdraw   100 RMB\")\n",
    "    print(\"2. Withdraw   500 RMB\")\n",
    "    print(\"3. Withdraw  1000 RMB\")\n",
    "    print(\"4. Withdraw  3000 RMB\")\n",
    "    print(\"5. Withdraw 10000 RMB\")\n",
    "    print(\"6. Cancel\")\n",
    "    choice = int(input(\"enter your choice: \"))\n",
    "    \n",
    "    if choice == 1:\n",
    "        print(\"给你一百块\")\n",
    "    elif choice == 2:\n",
    "        print(\"给你五百块\")\n",
    "    elif choice == 3:\n",
    "        print(\"给你一千块\")\n",
    "    elif choice == 4:\n",
    "        print(\"给你三千块\")\n",
    "    elif choice == 5:\n",
    "        print(\"钱不够\")\n",
    "    "
   ]
  },
  {
   "cell_type": "markdown",
   "metadata": {},
   "source": [
    "My condition here is choice != 6. This means choice IS NOT EQUAL to 6. So as long as the variable \"choice\" does not equal 6, this program will run forever. When the user wants to quit the application, they can type 6 and the program will stop. \n",
    "\n",
    "This is a really important structure for building any text based applications that use menus. Remember it!\n",
    "\n",
    "In pseudocode, this is called a WHILE...DO...ENDWHILE loop"
   ]
  },
  {
   "cell_type": "markdown",
   "metadata": {},
   "source": [
    "#### Exercise\n",
    "\n",
    "AQI (Air Quality Index) is a way of measuring the pollution in the air. It is represented by an integer. You should write a program that allows a user to repeatedly enter the current AQI. \n",
    "\n",
    "Based on the 6 categories listed here: https://cfpub.epa.gov/airnow/index.cfm?action=aqibasics.aqi#:~:text=%22Unhealthy%22%20AQI%20is%20151%20to,AQI%20is%20201%20to%20300.&text=%22Hazardous%22%20AQI%20greater%20than%20300. you should output the value the user entered, the category and a short comment.\n",
    "\n",
    "For example \"Current AQI is 37 (Good). Outdoor activities are safe for all groups.\". \n",
    "\n",
    "The application should continue until the user types the word QUIT. "
   ]
  },
  {
   "cell_type": "code",
   "execution_count": null,
   "metadata": {},
   "outputs": [],
   "source": []
  },
  {
   "cell_type": "code",
   "execution_count": 18,
   "metadata": {},
   "outputs": [],
   "source": [
    "import random\n",
    "a=random.randint(0,500)\n",
    "print(a)\n",
    "\n",
    "while choice != QUIT:\n",
    "    \n",
    "    choice = int(input(\"enter your choice: \"))\n",
    "    \n",
    "    if choice ==0<x<50:\n",
    "        print(\"Current AQI is good(x). Outdoor activities are safe for all groups.\")\n",
    "    elif choice ==51<x<100:\n",
    "        print(\"Current AQI is Moderate(x). people who are unusually sensitive to ozone may experience respiratory symptoms.\")\n",
    "    elif choice == 101<x<150:\n",
    "        print(\"Current AQI is Unhealthy for Sensitive Groups(x). persons with heart and lung disease, older adults and children are at greater risk from the presence of particles in the air.\")\n",
    "    elif choice == 151<x<200:\n",
    "        print(\"Current AQI is Unhealthy(x). Everyone may begin to experience some adverse health effects, and members of the sensitive groups may experience more serious effects.\")\n",
    "    elif choice == 201<x<250:\n",
    "        print(\"Current AQI is very unhealthy(x). Outdoor activities are safe for all groups.\")\n",
    "    "
   ]
  },
  {
   "cell_type": "markdown",
   "metadata": {},
   "source": [
    "### Subroutines\n",
    "\n",
    "A subroutine is a sequence of code that performs a specific task, but it is only one part of the system. See the below code."
   ]
  },
  {
   "cell_type": "code",
   "execution_count": null,
   "metadata": {},
   "outputs": [],
   "source": [
    "def chinese():\n",
    "    print(\"你好，我叫Robert\")\n",
    "\n",
    "def gaelic():\n",
    "    print(\"Halo, is mise Robert\")\n",
    "\n",
    "def spanish():\n",
    "    print(\"Hola, mi nombre es Robert\")\n",
    "    \n",
    "def german():\n",
    "    print(\"Guten tag, ich heiße Robert\")\n",
    "    \n",
    "while choice != 5:\n",
    "    print(\"1. 中文\")\n",
    "    print(\"2. Gàidhlig\")\n",
    "    print(\"3. Español\")\n",
    "    print(\"4. Deutsch\")\n",
    "    print(\"5. Quit\")\n",
    "    choice = int(input(\"Choose a language: \"))\n",
    "    \n",
    "    if choice == 1:\n",
    "        chinese()\n",
    "    elif choice == 2:\n",
    "        gaelic()\n",
    "    elif choice == 3:\n",
    "        spanish()\n",
    "    elif choice == 4:\n",
    "        german()\n"
   ]
  },
  {
   "cell_type": "markdown",
   "metadata": {},
   "source": [
    "This type of subroutine is called a procedure. You create a procedure by writing def (this is short for \"define\"), giving your procedure a name, and then (): \n",
    "\n",
    "You can then write any python functionality inside this procedure and use it at any time in your program just by writing the procedure name and then two brackets (). \n",
    "\n",
    "There are two reasons we do this. First - readability. In my programme above, if I didn't use procedures, the readability would still be fine. But what if each procedure was very complex and required 50+ lines of code? The main body of my program would be very hard to follow. There is also the idea of abstraction. The main body of the program shouldn't care how procedures work, it just knows that they do work. So this is one reason for seperating it like this.\n",
    "\n",
    "Another reason is reusability. If I write a great procedure that returns the current time, for example, I may want to use that multiple times in my program or even in different programs. By creating subroutines, I can code it once and then use it an unlimited number of times. "
   ]
  },
  {
   "cell_type": "markdown",
   "metadata": {},
   "source": [
    "There is another kind of subroutine in python called a function. You've already used these - print(), str(), int(), input() etc. are all functions. This demonstrates the benefit of abstraction. We don't know or care how print() works, we just know that it works and that we can use it in our programs. \n",
    "\n",
    "The difference between a procedure and a function is that a function takes at least one argument. An argument is a value that is given to the function to process. For example when you do print(string), the string object is an argument. Functions also must return a value. Let's look at an example:"
   ]
  },
  {
   "cell_type": "code",
   "execution_count": 20,
   "metadata": {},
   "outputs": [
    {
     "name": "stdout",
     "output_type": "stream",
     "text": [
      "3\n"
     ]
    }
   ],
   "source": [
    "def add(value1, value2): \n",
    "    result = value1 + value2\n",
    "    return result\n",
    "\n",
    "print(add(1, 2))"
   ]
  },
  {
   "cell_type": "markdown",
   "metadata": {},
   "source": [
    "This particular function is not really that useful because python already includes the + operator, but this simple example will show you how we can use functions. They are defined the same way as procedures, but rather than the brackets being empty we need to include at least one argument (also called a parameter). These are values that are given to the function by another part of the program. \n",
    "\n",
    "You can name these values anything, but it's best to use a name that makes sense and explains a little bit about what kind of value the function expects to receive. It is also good practice to use a different name that is not being used elsewhere in the program. \n",
    "\n",
    "These values are then available to be processed within the function, and the function must end with a return statement. This sends back a value to the part of the program that called the function.\n",
    "\n",
    "I have writtean a get_aqi_grade function below. You can use this function to help you complete the next exercise. \n",
    "\n",
    "#### Exercise\n",
    "\n",
    "Ask the user to enter the AQI levels for 5 cities of your choice. These results should then be displayed showing both the AQI number and grade (Good, Moderate, Unhealthy, etc.). Example:"
   ]
  },
  {
   "cell_type": "raw",
   "metadata": {},
   "source": [
    "New Delhi AQI: 103 - Unhealthy for Sensitive Groups\n",
    "Tianjin AQI: 89 - Moderate\n",
    "London AQI: 49 - Good\n",
    "New York City AQI: 58 - Moderate\n",
    "Wellington AQI: 12 - Good"
   ]
  },
  {
   "cell_type": "code",
   "execution_count": 22,
   "metadata": {},
   "outputs": [],
   "source": [
    "def get_aqi_grade(aqi):\n",
    "    grade = \"invalid\"\n",
    "    if aqi <= 49:\n",
    "        grade = \"Good\"\n",
    "    elif aqi >= 50 and aqi <= 100:\n",
    "        grade = \"Moderate\"\n",
    "    elif aqi >= 101 and aqi <= 150:\n",
    "        grade = \"Unhealthy for Sensitive Groups\"\n",
    "    elif aqi >= 151 and aqi <= 200:\n",
    "        grade = \"Unhealthy\"\n",
    "    elif aqi >= 201 and aqi <= 300:\n",
    "        grade = \"Very unhealthy\"\n",
    "    elif aqi >= 301:\n",
    "        grade = \"Hazardous\"\n",
    "    return grade\n",
    "\n",
    "# write your code below - do not edit anything above this line\n",
    "# ->>> start here"
   ]
  },
  {
   "cell_type": "markdown",
   "metadata": {},
   "source": [
    "#### Exercise\n",
    "\n",
    "Can you write a function to complete the following task?\n",
    "\n",
    "In the UK, employers must ensure that office spaces are no colder than 16 degrees (C). A program has been developed to determine if office temperature is too cold, but the thermometer the system is connected to uses Fahrenheit - the American system. Fahrenheit values are larger than Celsius, so even if the user inputs 50F (quite cold, equal to 10C) the system will still say it is more than 16 so there is no problem. There is no easy way to change this. You should write a function to convert the inputted Fahrenheit value to Celsius. You will need to research the formula for this. "
   ]
  },
  {
   "cell_type": "code",
   "execution_count": null,
   "metadata": {},
   "outputs": [],
   "source": [
    "import random\n",
    "\n",
    "# write your function here\n",
    "# ---> \n",
    "\n",
    "sensor_input = random.randint(50, 105) # do not edit this line - in the example this reading is coming directly from the sensor\n",
    "\n",
    "office_temp = sensor_input # you should modify this line\n",
    "\n",
    "if office_temp < 16: # do not modify \n",
    "    print(\"Office temperature is too low\")\n",
    "elif office_temp >= 16: # do not modify\n",
    "    print(\"Office is not too cold\")\n",
    "else: \n",
    "    print(\"Unable to Calculate\")\n",
    "    \n",
    "\n",
    "    "
   ]
  },
  {
   "cell_type": "code",
   "execution_count": null,
   "metadata": {},
   "outputs": [],
   "source": []
  },
  {
   "cell_type": "code",
   "execution_count": null,
   "metadata": {},
   "outputs": [],
   "source": []
  }
 ],
 "metadata": {
  "kernelspec": {
   "display_name": "Python 3",
   "language": "python",
   "name": "python3"
  },
  "language_info": {
   "codemirror_mode": {
    "name": "ipython",
    "version": 3
   },
   "file_extension": ".py",
   "mimetype": "text/x-python",
   "name": "python",
   "nbconvert_exporter": "python",
   "pygments_lexer": "ipython3",
   "version": "3.9.0"
  }
 },
 "nbformat": 4,
 "nbformat_minor": 4
}
