{
 "cells": [
  {
   "cell_type": "markdown",
   "metadata": {},
   "source": [
    "# Programming I Lesson 2"
   ]
  },
  {
   "cell_type": "markdown",
   "metadata": {},
   "source": [
    "#### Content\n",
    "\n",
    "- Understand what a sequence is\n",
    "- Understand what selection is\n",
    "- Become familiar with the concept of syntax\n",
    "- Become familiar with the concept of pseudocode"
   ]
  },
  {
   "cell_type": "markdown",
   "metadata": {},
   "source": [
    "#### Sequences\n",
    "\n",
    "You probably already figured this out, but when you write a program all steps are executed in order. This order is called a sequence. Try the code below. Does it work? Why not? Can you fix it?"
   ]
  },
  {
   "cell_type": "code",
   "execution_count": null,
   "metadata": {},
   "outputs": [],
   "source": [
    "print(\"my name is \" + name)\n",
    "name = \"Robert\""
   ]
  },
  {
   "cell_type": "markdown",
   "metadata": {},
   "source": [
    "#### Selection\n",
    "\n",
    "This is where programming starts to get fun. In many scenarios, different steps may need to be carried out depending on some result or condition. For example, if you knock your friend's door and they same \"come in!\" the steps you need to take will be different to if they shout \"go away!\". Let's illustrate this:"
   ]
  },
  {
   "cell_type": "raw",
   "metadata": {},
   "source": [
    "IF friend_reply = \"come in!\" THEN\n",
    "    open the door\n",
    "ELSE\n",
    "    go away and come back later\n",
    "ENDIF"
   ]
  },
  {
   "cell_type": "markdown",
   "metadata": {},
   "source": [
    "This \"IF...THEN...ELSE...ENDIF\" loop is a fundamental programming concept. \n",
    "\n",
    "I also introduced you to something else here - pseudocode. The code above is not python code. It is not any programming language. The prefix \"pseudo\" (pronounced \"su-dou\") means \"not real, but looks real\". We use pseudocode to illustrate algorithms in a generic, easily understandable way that does not require specific knowledge of a particular programming language.\n",
    "\n",
    "Let's see how that code might look in Python:"
   ]
  },
  {
   "cell_type": "code",
   "execution_count": null,
   "metadata": {},
   "outputs": [],
   "source": [
    "friend_reply = \"come in\"\n",
    "if (friend_reply == \"come in\"):\n",
    "    print(\"okay, I'm coming in!\")\n",
    "else:\n",
    "    print(\"okay, bye\")"
   ]
  },
  {
   "cell_type": "markdown",
   "metadata": {},
   "source": [
    "Try changing the value of friend_reply to something different like \"go away\", then run it again. \n",
    "\n",
    "A few interesting things here. Firstly, do you notice that when I am assigning a value I used one = sign, but when I am doing a comparison I use two ==? This is important. \n",
    "\n",
    "Another thing - we don't use the key word \"then\" in Python. The \"then\" is represented by a colon : \n",
    "\n",
    "There is also no \"end if\". This is represented by a blank line. \n",
    "\n",
    "Final thing. Try running the code below. It doesn't work. What's different about it?"
   ]
  },
  {
   "cell_type": "code",
   "execution_count": null,
   "metadata": {},
   "outputs": [],
   "source": [
    "friend_reply = \"come in\"\n",
    "if (friend_reply == \"come in\"):\n",
    "print(\"okay, I'm coming in!\")\n",
    "else:\n",
    "print(\"okay, bye\")"
   ]
  },
  {
   "cell_type": "markdown",
   "metadata": {},
   "source": [
    "Indentation is important in Python. You need to indent code to show that one part \"belongs to\" another part. This is very unique to Python. It makes your code more readable and this pattern should be followed in all programming languages, but Python is the only programming language I've ever used that actually gives you an error if you don't do it. \n",
    "\n",
    "As we're talking about other programming languages, let me show you how this code would look in Java (please note this will not actually run)"
   ]
  },
  {
   "cell_type": "code",
   "execution_count": null,
   "metadata": {},
   "outputs": [],
   "source": [
    "String friendReply = \"come in\";\n",
    "if (friendReply == \"come in\") {\n",
    "    println(\"okay, I'm coming in!\")\n",
    "} else {\n",
    "    println(\"okay, bye\")\n",
    "};"
   ]
  },
  {
   "cell_type": "raw",
   "metadata": {},
   "source": [
    "# exercise - make a note of the differences you notice (there are at least 4 differences)"
   ]
  },
  {
   "cell_type": "markdown",
   "metadata": {},
   "source": [
    "Python and Java have different syntax. Syntax in programming means the way statements are put together. For example print(\"hello\") in Python and println(\"hello\") in Java have the same meaning but different syntax.\n",
    "\n",
    "The term can be used in human language as well. \"I am Scottish\" and \"我是苏格兰人\" have the same meaning but different syntax. Thankfully, programming languages are mostly quite similar. You should have no problem understanding what's happening in a Java or C# program if you know Python.\n",
    "\n",
    "Only very advanced programmers have a perfect, fluent understanding of the entire syntax of a programming language. So pseudocode allows us to express algorithms without worrying about following the strict rules of a particular programming language. \n",
    "\n",
    "One more piece of terminology here is \"convention\". A convention is something that is generally done a certain way, but is not necessarily a rule.\n",
    "\n",
    "In python, if your variable name has spaces you use underscores like_this. In Java, you write it likeThis. There is no real reason for this. It's not part of the syntax, it's just convention. It's always good practice to follow the conventions of whatever programming language you're using. This is to make code easier to read and understand to other developers who are likely used to following the same conventions. For me, Python is not as familiar as Java so when I am declaring variables I always want to writeMyNamesLikeThis, but I have to force myself to write_like_this just to follow the convention. \n",
    "\n",
    "Pseudocode has no particular syntax, just conventions. "
   ]
  },
  {
   "cell_type": "markdown",
   "metadata": {},
   "source": [
    "##### Exercise\n",
    "\n",
    "re-write the knocking on the door program to allow the user to input the friend's reply.\n",
    "It should handle 3 different situations. You will need to use if...elif...else. You can learn how this works here: https://docs.python.org/3/tutorial/controlflow.html "
   ]
  },
  {
   "cell_type": "code",
   "execution_count": 9,
   "metadata": {},
   "outputs": [],
   "source": [
    "# write your code here!"
   ]
  },
  {
   "cell_type": "markdown",
   "metadata": {},
   "source": [
    "##### Exercise\n",
    "\n",
    "Write a chatbot that allows a user to get your contact information. You should include your phone number, wechat name and email address (these do not have to be real!)\n",
    "\n",
    "You should present a menu to the user that gives them their options. Give each option a number e.g.:\n",
    "    \n",
    "    1. Wechat\n",
    "    2. Email\n",
    "    3. Phone\n",
    "\n",
    "The user should be able to input the number of the choice they want. Based on this number, output the correct information. \n",
    "\n",
    "If the user picks an invalid number, you should output an error message. "
   ]
  },
  {
   "cell_type": "code",
   "execution_count": 10,
   "metadata": {},
   "outputs": [],
   "source": [
    "# write your code here!"
   ]
  },
  {
   "cell_type": "markdown",
   "metadata": {},
   "source": [
    "##### Exercise\n",
    "\n",
    "Generate a random integer between 1 and 10. The program should NOT display this number to the user until the end of the program. Ask the user to guess a number between 1 and 10. If their guess is the same as the random number, the program should output \"correct!\". If it is lower than the random number, the program should output \"too low!\" and then print the correct number. If it is higher, it should output something similar. \n",
    "\n",
    "Note"
   ]
  },
  {
   "cell_type": "raw",
   "metadata": {},
   "source": [
    "Sample output:\n",
    "    \n",
    "Please enter a number: 7\n",
    "Too low! The correct number was 8\n",
    "Please enter a number: 3\n",
    "Too high! The correct number was 1\n",
    "Please enter a number: 8\n",
    "Correct!\n",
    "    "
   ]
  }
 ],
 "metadata": {
  "kernelspec": {
   "display_name": "Python 3",
   "language": "python",
   "name": "python3"
  },
  "language_info": {
   "codemirror_mode": {
    "name": "ipython",
    "version": 3
   },
   "file_extension": ".py",
   "mimetype": "text/x-python",
   "name": "python",
   "nbconvert_exporter": "python",
   "pygments_lexer": "ipython3",
   "version": "3.7.4"
  }
 },
 "nbformat": 4,
 "nbformat_minor": 4
}
