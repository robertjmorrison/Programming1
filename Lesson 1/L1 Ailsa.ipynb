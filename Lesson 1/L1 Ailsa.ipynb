{
 "cells": [
  {
   "cell_type": "markdown",
   "metadata": {},
   "source": [
    "# Programming I Lesson 1"
   ]
  },
  {
   "cell_type": "markdown",
   "metadata": {},
   "source": [
    "#### What is this?\n",
    "\n",
    "This application is Jupyter Notebook. It's kind of like an interactive document that can run Python code. It's really convenient for displaying instructions and code examples that you can actually run in the same place.\n",
    "\n",
    "I expect you to work through these lessons independently. That doesn't mean by yourself, I encourage you to work in pairs or threes. But I am asking you to read this and teach yourself these concepts rather than me standing at the front of the class talking about them. \n",
    "\n",
    "For each lesson, you will all get a copy of the same document. Please do not type anything in anybody else's document. If you do, that's okay, but please don't push or commit changes to any document other than your own. If it happens, it's not a big deal, I can fix it - but it's inconvenient for me and your classmates so try to be careful. \n",
    "\n",
    "I encourage you to look at each other's solutions to problems. I encourage you to work together as much as possible. But please don't just copy people's code as your answers to problems. Try to understand it, adapt it, even improve it if you can. Remember I can see who wrote code first using GitHub's history feature. I can also tell if the code was pasted in or typed. I have eyes everywhere...\n",
    "\n"
   ]
  },
  {
   "cell_type": "markdown",
   "metadata": {},
   "source": [
    "In this lesson you will learn:\n",
    "\n",
    "•\tWhat is programming?\n",
    "\n",
    "•\tWhat is a programming language? \n",
    "\n",
    "•\tBasic data types\n",
    "\n",
    "•\tBasic functions (print, input)\n",
    "\n",
    "•\tVariables and constants\n",
    "\n",
    "•\tHow to make a simple program "
   ]
  },
  {
   "cell_type": "markdown",
   "metadata": {},
   "source": [
    "#### Basic Data Types"
   ]
  },
  {
   "cell_type": "markdown",
   "metadata": {},
   "source": [
    "Data types are specific to each programming language. You need to know 5 data types: string, char, integer, real and Boolean. \n",
    "\n",
    "A string is text. It can be one character, a sentence, a paragraph or a whole book (probably not sensible!). You can store a number as a string, but it cannot have calculations performed on it. Strings always have quote marks “ “ around them. \n",
    "\n",
    "Char is one character of text. It actually does not exist in Python, but it does in other languages like Java. In Python you just use strings. \n",
    "\n",
    "An integer is a whole number, for example -7, 9 and 9879363 are all integers. 1.3 is not. \n",
    "\n",
    "A real number (called a float in python) is a number that has a decimal point. For example 8.949070 is a real number. You can store whole numbers as real numbers but they will be represented like 8.0 instead of just 8 (that’s an integer). \n",
    "\n",
    "Boolean is an interesting one – it can only has two possible values – True or False. Kind of like a binary bit… Note that in Python, you must capitalize the first letter (True, not true) and do not put quotes “” around it, otherwise it’s a string. \n",
    "\n",
    "\n"
   ]
  },
  {
   "cell_type": "raw",
   "metadata": {},
   "source": [
    "Exercises\n",
    "\n",
    "Q1) What data types are these values?\n",
    "\n",
    "a) \"abcdefgh\"\n",
    "b) \"f\"\n",
    "c) False\n",
    "d) \"True\"\n",
    "e) 904\n",
    "f) 0\n",
    "g) 1.12\n",
    "h) \"7\"\n",
    "\n",
    "Q2) Give an example of the following data types\n",
    "\n",
    "a) String\n",
    "b) Char\n",
    "c) Integer\n",
    "d) Real\n",
    "e) Boolean"
   ]
  },
  {
   "cell_type": "markdown",
   "metadata": {},
   "source": [
    "#### Basic Functions\n",
    "\n",
    "The first function to learn about is print. Print outputs the value of a string. \n",
    "\n",
    "Try running the following code:"
   ]
  },
  {
   "cell_type": "code",
   "execution_count": null,
   "metadata": {},
   "outputs": [],
   "source": [
    "print(hello)"
   ]
  },
  {
   "cell_type": "raw",
   "metadata": {},
   "source": [
    "Exercises\n",
    "\n",
    "Can you use 5 print statements to output a large version of the first letter of your name? For example:\n",
    "\n",
    "$ $ $ $ \n",
    "$      $\n",
    "$ $ $ $ \n",
    "$      $\n",
    "$       $\n"
   ]
  },
  {
   "cell_type": "code",
   "execution_count": null,
   "metadata": {},
   "outputs": [],
   "source": [
    "# write your code here!"
   ]
  },
  {
   "cell_type": "markdown",
   "metadata": {},
   "source": [
    "The next function to learn about is input. This function allows the user to type something when your program is running. Try this example:"
   ]
  },
  {
   "cell_type": "code",
   "execution_count": null,
   "metadata": {},
   "outputs": [],
   "source": [
    "print(input(\"Type something\"))"
   ]
  },
  {
   "cell_type": "markdown",
   "metadata": {},
   "source": [
    "We'll come back to this function in a little while..."
   ]
  },
  {
   "cell_type": "markdown",
   "metadata": {},
   "source": [
    "#### Mathematical Operators\n",
    "\n",
    "You can use standard maths operators in Python. + - / * all do what you would expect them to. \n",
    "\n",
    "Try this code:\n"
   ]
  },
  {
   "cell_type": "code",
   "execution_count": null,
   "metadata": {},
   "outputs": [],
   "source": [
    "print(6+5)"
   ]
  },
  {
   "cell_type": "markdown",
   "metadata": {},
   "source": [
    "Did it do what you expected?\n",
    "\n",
    "Try this one:"
   ]
  },
  {
   "cell_type": "code",
   "execution_count": null,
   "metadata": {},
   "outputs": [],
   "source": [
    "print(\"hello\" + \" my name is _____\")"
   ]
  },
  {
   "cell_type": "markdown",
   "metadata": {},
   "source": [
    "#### Variables and constants\n",
    "\n",
    "A variable is a location you can use to store some data in a computer program. For example, if I have a computer program that requires my age, I can just write something like this:"
   ]
  },
  {
   "cell_type": "code",
   "execution_count": null,
   "metadata": {},
   "outputs": [],
   "source": [
    "age = 26\n",
    "print(age)"
   ]
  },
  {
   "cell_type": "markdown",
   "metadata": {},
   "source": [
    "Variables are really useful! So now we can build a string using some variables, like this:"
   ]
  },
  {
   "cell_type": "code",
   "execution_count": null,
   "metadata": {},
   "outputs": [],
   "source": [
    "name = \"Robert\"\n",
    "job = \"teacher\"\n",
    "years_in_china = 2\n",
    "\n",
    "print(\"my name is \" + name + \", I am a \" + job + \". I have been living in China for \" + years_in_china + \" years\")"
   ]
  },
  {
   "cell_type": "markdown",
   "metadata": {},
   "source": [
    "Oh... there was a problem with that. Read the error, what does it mean? Can you figure out where the problem is and how to solve it? Remember that the print function can only handle strings. "
   ]
  },
  {
   "cell_type": "raw",
   "metadata": {},
   "source": [
    "# Exercises\n",
    "\n",
    "Use the print function to output a sentence introducing yourself. It should say your name, your age and where you live. You should store the values (name, age, city) in variables. "
   ]
  },
  {
   "cell_type": "code",
   "execution_count": null,
   "metadata": {},
   "outputs": [],
   "source": [
    "# write your code here!\n",
    "# sample output: Hi, my name is Computer. I am 7 years old and I live in my owner's house. "
   ]
  },
  {
   "cell_type": "markdown",
   "metadata": {},
   "source": [
    "We can use the input function to store user input as a variable like this:"
   ]
  },
  {
   "cell_type": "code",
   "execution_count": 22,
   "metadata": {},
   "outputs": [
    {
     "name": "stdin",
     "output_type": "stream",
     "text": [
      "Tell me a number! 8\n"
     ]
    },
    {
     "name": "stdout",
     "output_type": "stream",
     "text": [
      "your number is 8\n"
     ]
    }
   ],
   "source": [
    "number = input(\"Tell me a number!\")\n",
    "print(\"your number is \" + number)"
   ]
  },
  {
   "cell_type": "raw",
   "metadata": {},
   "source": [
    "# Exercise\n",
    "\n",
    "Write a program that takes a user input and outputs the square of that number. E.g. 8 should output 64"
   ]
  },
  {
   "cell_type": "code",
   "execution_count": null,
   "metadata": {},
   "outputs": [],
   "source": [
    "# write your code here!"
   ]
  },
  {
   "cell_type": "markdown",
   "metadata": {},
   "source": [
    "A constant can also be used to store data, but we cannot change the value once it is declared in code. These aren't really used all that often, but you need to know what they are. Actually, constants don't exist in Python. You will find that a lot of stuff doesn't exist in Python - it is design to be simple and fast to write. But it is still extremely powerful. "
   ]
  },
  {
   "cell_type": "markdown",
   "metadata": {},
   "source": [
    "#### First program\n",
    "\n",
    "Time to make your first real program! We'll keep this simple.\n",
    "\n",
    "You should create a \"fake quote generator\". \n",
    "\n",
    "The generator should ask me for three pieces of information: a verb, a noun and a famous person.\n",
    "\n",
    "It should then output a sentence based on my information.\n",
    "\n",
    "For example: \n",
    "\n",
    "\"In the morning, I always (verb) my (noun). It's the best way to start the day\"\n",
    "\n",
    "--- (person)\n",
    "\n",
    "So if I input verb = eat, noun = USB flash drive, person = Donald Trump I should see the following:\n",
    "\n",
    "\"In the morning, I always eat my USB flash drive. It's the best way to start the day\"\n",
    "\n",
    "--- Donald Trump"
   ]
  },
  {
   "cell_type": "code",
   "execution_count": null,
   "metadata": {},
   "outputs": [],
   "source": [
    "# write your code here!"
   ]
  }
 ],
 "metadata": {
  "kernelspec": {
   "display_name": "Python 3",
   "language": "python",
   "name": "python3"
  },
  "language_info": {
   "codemirror_mode": {
    "name": "ipython",
    "version": 3
   },
   "file_extension": ".py",
   "mimetype": "text/x-python",
   "name": "python",
   "nbconvert_exporter": "python",
   "pygments_lexer": "ipython3",
   "version": "3.7.4"
  }
 },
 "nbformat": 4,
 "nbformat_minor": 4
}
