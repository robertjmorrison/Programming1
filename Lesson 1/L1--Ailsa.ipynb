{
 "cells": [
  {
   "cell_type": "markdown",
   "metadata": {},
   "source": [
    "# Programming I Lesson 1"
   ]
  },
  {
   "cell_type": "markdown",
   "metadata": {},
   "source": [
    "#### What is this?\n",
    "\n",
    "This application is Jupyter Notebook. It's kind of like an interactive document that can run Python code. It's really convenient for displaying instructions and code examples that you can actually run in the same place.\n",
    "\n",
    "I expect you to work through these lessons independently. That doesn't mean by yourself, I encourage you to work in pairs or threes. But I am asking you to read this and teach yourself these concepts rather than me standing at the front of the class talking about them. \n",
    "\n",
    "For each lesson, you will all be asked to make a personal copy of a document. Please do not type anything in anybody else's document. If you do, that's okay, but please don't push or commit changes to any document other than your own. If it happens, it's not a big deal, I can fix it - but it's inconvenient for me and your classmates so try to be careful. \n",
    "\n",
    "Start by copying this document now - go to the area on the left of the screen and right click \"Lesson 1 Material.ipynb\", then \"Duplicate\", then rename the new file \"L1_yourname\".\n",
    "\n",
    "I encourage you to look at each other's solutions to problems. I encourage you to work together as much as possible. But please don't just copy people's code as your answers to problems. If you have to use someone else's code, try to understand it, adapt it, even improve it if you can. Remember I can see who wrote code first using GitHub's history feature. I can also tell if the code was pasted in or typed. I have eyes everywhere..."
   ]
  },
  {
   "cell_type": "markdown",
   "metadata": {},
   "source": [
    "#### Today's lesson\n",
    "\n",
    "In this lesson you will learn:\n",
    "\n",
    "•\tWhat is programming?\n",
    "\n",
    "•\tWhat is a programming language? \n",
    "\n",
    "•\tBasic data types\n",
    "\n",
    "•\tBasic functions (print, input)\n",
    "\n",
    "•\tVariables and constants\n",
    "\n",
    "•\tHow to make a simple program "
   ]
  },
  {
   "cell_type": "markdown",
   "metadata": {},
   "source": [
    "#### What is programming?\n",
    "\n",
    "You can edit this part and make notes"
   ]
  },
  {
   "cell_type": "markdown",
   "metadata": {},
   "source": [
    "#### What's a programming language?\n",
    "\n",
    "You can edit this part and make notes"
   ]
  },
  {
   "cell_type": "markdown",
   "metadata": {},
   "source": [
    "#### Basic Data Types"
   ]
  },
  {
   "cell_type": "markdown",
   "metadata": {},
   "source": [
    "Data types are specific to each programming language. You need to know 5 data types: string, char, integer, real and Boolean. \n",
    "\n",
    "A string is text. It can be one character, a sentence, a paragraph or a whole book (probably not sensible!). You can store a number as a string, but it cannot have calculations performed on it. Strings always have quote marks “ “ around them. \n",
    "\n",
    "Char is one character of text. It actually does not exist in Python, but it does in other languages like Java. In Python you just use strings. \n",
    "\n",
    "An integer is a whole number, for example -7, 9 and 9879363 are all integers. 1.3 is not. \n",
    "\n",
    "A real number (called a float in python) is a number that has a decimal point. For example 8.949070 is a real number. You can store whole numbers as real numbers but they will be represented like 8.0 instead of just 8 (that’s an integer). \n",
    "\n",
    "Boolean is an interesting one – it can only has two possible values – True or False. Kind of like a binary bit… Note that in Python, you must capitalize the first letter (True, not true) and do not put quotes “” around it, otherwise it’s a string. \n",
    "\n",
    "\n"
   ]
  },
  {
   "cell_type": "raw",
   "metadata": {},
   "source": [
    "Exercises\n",
    "\n",
    "Q1) What data types are these values?\n",
    "\n",
    "a) \"abcdefgh\" string\n",
    "b) \"f\" string\n",
    "c) False Bollean\n",
    "d) \"True\" string\n",
    "e) 904 integer\n",
    "f) 0   integer\n",
    "g) 1.12 real number\n",
    "h) \"7\" string\n",
    "\n",
    "Q2) Give an example of the following data types\n",
    "\n",
    "a) String \"ailsa\"\n",
    "b) Char    ailsa <- this one is not correct\n",
    "c) Integer  4789\n",
    "d) Real     4.789\n",
    "e) Boolean  True"
   ]
  },
  {
   "cell_type": "markdown",
   "metadata": {},
   "source": [
    "<span style=\"color:red\">One mistake here </span>"
   ]
  },
  {
   "cell_type": "markdown",
   "metadata": {},
   "source": [
    "#### Basic Functions\n",
    "\n",
    "The first function to learn about is print. Print outputs the value of a string. \n",
    "\n",
    "Try running the following code:"
   ]
  },
  {
   "cell_type": "code",
   "execution_count": 2,
   "metadata": {},
   "outputs": [
    {
     "name": "stdout",
     "output_type": "stream",
     "text": [
      "hello\n"
     ]
    }
   ],
   "source": [
    "print(\"hello\")"
   ]
  },
  {
   "cell_type": "markdown",
   "metadata": {},
   "source": [
    "Oh no! The first piece of code I ever gave you was a trick - it doesn't work. Can you figure out why, and fix it?"
   ]
  },
  {
   "cell_type": "raw",
   "metadata": {},
   "source": [
    "# Exercise\n",
    "\n",
    "Can you use 5 print statements to output a large version of the first letter of your name? For example:\n",
    "\n",
    "$ $ $ $ \n",
    "$      $\n",
    "$ $ $ $ \n",
    "$      $\n",
    "$       $\n"
   ]
  },
  {
   "cell_type": "code",
   "execution_count": 9,
   "metadata": {},
   "outputs": [
    {
     "name": "stdout",
     "output_type": "stream",
     "text": [
      "    A   \n",
      "   A A \n",
      "  A   A\n",
      " A A A A\n",
      "A       A\n"
     ]
    }
   ],
   "source": [
    "print(\"    A   \")\n",
    "print(\"   A A \")\n",
    "print(\"  A   A\")\n",
    "print(\" A A A A\")\n",
    "print(\"A       A\")"
   ]
  },
  {
   "cell_type": "markdown",
   "metadata": {},
   "source": [
    "The next function to learn about is input. This function allows the user to type something when your program is running. Try this example:"
   ]
  },
  {
   "cell_type": "code",
   "execution_count": null,
   "metadata": {},
   "outputs": [],
   "source": [
    "print(input(\"Type something\"))"
   ]
  },
  {
   "cell_type": "markdown",
   "metadata": {},
   "source": [
    "We'll come back to this function in a little while..."
   ]
  },
  {
   "cell_type": "markdown",
   "metadata": {},
   "source": [
    "#### Mathematical Operators\n",
    "\n",
    "You can use standard maths operators in Python. + - / * all do what you would expect them to. \n",
    "\n",
    "Try this code:\n"
   ]
  },
  {
   "cell_type": "code",
   "execution_count": 7,
   "metadata": {},
   "outputs": [
    {
     "name": "stdout",
     "output_type": "stream",
     "text": [
      "11\n"
     ]
    }
   ],
   "source": [
    "print(6+ 5)"
   ]
  },
  {
   "cell_type": "markdown",
   "metadata": {},
   "source": [
    "Did it do what you expected? If not, can you fix it?\n",
    "\n",
    "Try this one:"
   ]
  },
  {
   "cell_type": "code",
   "execution_count": 3,
   "metadata": {},
   "outputs": [
    {
     "name": "stdout",
     "output_type": "stream",
     "text": [
      "hello my name is __ailsa___\n"
     ]
    }
   ],
   "source": [
    "print(\"hello\" + \" my name is __ailsa___\")"
   ]
  },
  {
   "cell_type": "markdown",
   "metadata": {},
   "source": [
    "Try and experiment with a few things. What happens if you print the output of a string then multiply it by an integer?"
   ]
  },
  {
   "cell_type": "code",
   "execution_count": 6,
   "metadata": {},
   "outputs": [
    {
     "name": "stdout",
     "output_type": "stream",
     "text": [
      "hi  hi nice to meet you\n"
     ]
    }
   ],
   "source": [
    "print(\"hi \"+\" hi \"+\"nice to meet you\")"
   ]
  },
  {
   "cell_type": "markdown",
   "metadata": {},
   "source": [
    "#### Variables and constants\n",
    "\n",
    "A variable is a location you can use to store some data in a computer program. For example, if I have a computer program that requires my age, I can just write something like this:"
   ]
  },
  {
   "cell_type": "code",
   "execution_count": 8,
   "metadata": {},
   "outputs": [
    {
     "name": "stdout",
     "output_type": "stream",
     "text": [
      "26\n"
     ]
    }
   ],
   "source": [
    "age = 26\n",
    "print(age)"
   ]
  },
  {
   "cell_type": "markdown",
   "metadata": {},
   "source": [
    "Variables are really useful! So now we can build a string using some variables, like this:"
   ]
  },
  {
   "cell_type": "code",
   "execution_count": 1,
   "metadata": {},
   "outputs": [
    {
     "name": "stdout",
     "output_type": "stream",
     "text": [
      "my name is Robert, I am a teacher. I have been living in China for 2 years\n"
     ]
    }
   ],
   "source": [
    "name = \"Robert\"\n",
    "job = \"teacher\"\n",
    "years_in_china = 2\n",
    "\n",
    "print(\"my name is \" + name + \", I am a \" + job + \". I have been living in China for \" + str(years_in_china) + \" years\")"
   ]
  },
  {
   "cell_type": "markdown",
   "metadata": {},
   "source": [
    "Oh... there was a problem with that. Read the error, what does it mean? Can you figure out where the problem is and how to solve it? \n",
    "\n",
    "Hint: Remember that the print function can only handle strings. Are all of the values you are trying to print strings? If not, can you use google to find a way to convert something into a string? "
   ]
  },
  {
   "cell_type": "raw",
   "metadata": {},
   "source": [
    "# Exercises\n",
    "\n",
    "Use the print function to output a sentence introducing yourself. It should say your name, your age and where you live. You should store the values (name, age, city) in variables. "
   ]
  },
  {
   "cell_type": "code",
   "execution_count": 2,
   "metadata": {},
   "outputs": [
    {
     "name": "stdout",
     "output_type": "stream",
     "text": [
      "my name is Ailsa, my hobby is  cooking. I have been living in Songapore for 2 years\n"
     ]
    }
   ],
   "source": [
    "name = \"Ailsa\"\n",
    "hobby= \"cooking\"\n",
    "years_in_singapore = 2\n",
    "\n",
    "print(\"my name is \" + name + \", my hobby is  \" + hobby + \". I have been living in Songapore for \" + str(years_in_singapore) + \" years\")"
   ]
  },
  {
   "cell_type": "markdown",
   "metadata": {},
   "source": [
    "We can use the input function to store user input as a variable like this:"
   ]
  },
  {
   "cell_type": "code",
   "execution_count": 7,
   "metadata": {},
   "outputs": [
    {
     "name": "stdin",
     "output_type": "stream",
     "text": [
      "Tell me a number! 8\n"
     ]
    },
    {
     "ename": "TypeError",
     "evalue": "can only concatenate str (not \"int\") to str",
     "output_type": "error",
     "traceback": [
      "\u001b[0;31m---------------------------------------------------------------------------\u001b[0m",
      "\u001b[0;31mTypeError\u001b[0m                                 Traceback (most recent call last)",
      "\u001b[0;32m<ipython-input-7-90fb7b359255>\u001b[0m in \u001b[0;36m<module>\u001b[0;34m\u001b[0m\n\u001b[1;32m      1\u001b[0m \u001b[0mnumber\u001b[0m \u001b[0;34m=\u001b[0m \u001b[0mint\u001b[0m\u001b[0;34m(\u001b[0m\u001b[0minput\u001b[0m\u001b[0;34m(\u001b[0m\u001b[0;34m\"Tell me a number!\"\u001b[0m\u001b[0;34m)\u001b[0m\u001b[0;34m)\u001b[0m\u001b[0;34m\u001b[0m\u001b[0;34m\u001b[0m\u001b[0m\n\u001b[0;32m----> 2\u001b[0;31m \u001b[0mprint\u001b[0m\u001b[0;34m(\u001b[0m\u001b[0;34m\"your number is \"\u001b[0m \u001b[0;34m+\u001b[0m \u001b[0mnumber\u001b[0m\u001b[0;34m)\u001b[0m\u001b[0;34m\u001b[0m\u001b[0;34m\u001b[0m\u001b[0m\n\u001b[0m",
      "\u001b[0;31mTypeError\u001b[0m: can only concatenate str (not \"int\") to str"
     ]
    }
   ],
   "source": [
    "number = int(input(\"Tell me a number!\"))\n",
    "print(\"your number is \" + number)"
   ]
  },
  {
   "cell_type": "raw",
   "metadata": {},
   "source": [
    "# Exercise\n",
    "\n",
    "Write a program that takes a user input and outputs the square of that number. E.g. 8 should output 64"
   ]
  },
  {
   "cell_type": "code",
   "execution_count": 9,
   "metadata": {},
   "outputs": [
    {
     "name": "stdin",
     "output_type": "stream",
     "text": [
      "Tell me a number! 8\n"
     ]
    },
    {
     "name": "stdout",
     "output_type": "stream",
     "text": [
      "your number is64\n"
     ]
    }
   ],
   "source": [
    "number =int(input(\"Tell me a number!\"))\n",
    "print(\"your number is\"+ str(number*number))"
   ]
  },
  {
   "cell_type": "markdown",
   "metadata": {},
   "source": [
    "A constant can also be used to store data, but we cannot change the value once it is declared in code. These aren't really used all that often, but you need to know what they are. Actually, constants don't exist in Python. You will find that a lot of stuff doesn't exist in Python - it is design to be simple and fast to write. But it is still extremely powerful. "
   ]
  },
  {
   "cell_type": "markdown",
   "metadata": {},
   "source": [
    "#### First program\n",
    "\n",
    "Time to make your first real program! We'll keep this simple.\n",
    "\n",
    "You should create a \"fake quote generator\". \n",
    "\n",
    "The generator should ask me for three pieces of information: a verb, a noun and a famous person.\n",
    "\n",
    "It should then output a sentence based on my information.\n",
    "\n",
    "For example: \n",
    "\n",
    "\"In the morning, I always (verb) my (noun). It's the best way to start the day\"\n",
    "\n",
    "--- (person)\n",
    "\n",
    "So if I input verb = eat, noun = USB flash drive, person = Donald Trump I should see the following:\n",
    "\n",
    "\"In the morning, I always eat my USB flash drive. It's the best way to start the day\"\n",
    "\n",
    "--- Donald Trump"
   ]
  },
  {
   "cell_type": "code",
   "execution_count": 14,
   "metadata": {},
   "outputs": [
    {
     "name": "stdout",
     "output_type": "stream",
     "text": [
      "At noon ,I went to the restaurant with my best friend annie.Ailsa\n"
     ]
    }
   ],
   "source": [
    "verb = \"went\"\n",
    "noun= \"restaurant\"\n",
    "person=\"Ailsa\"\n",
    "print(\"At noon ,I \" + (verb)+ \" to the \"+ (noun)+ \" with my best friend annie.\"+str(person))\n",
    "\n"
   ]
  },
  {
   "cell_type": "markdown",
   "metadata": {},
   "source": [
    "#### BONUS TASK (optional)\n",
    "\n",
    "Can you write 4-5 different quotes and make them appear at random? They should still use one inputtable verb and one noun"
   ]
  },
  {
   "cell_type": "code",
   "execution_count": 44,
   "metadata": {},
   "outputs": [
    {
     "data": {
      "text/plain": [
       "'3'"
      ]
     },
     "execution_count": 44,
     "metadata": {},
     "output_type": "execute_result"
    }
   ],
   "source": [
    "import random\n",
    "a = [\"1\",\"2\",\"3\",\"4\",\"5\",\"6\"]\n",
    "random.choice(a)"
   ]
  },
  {
   "cell_type": "code",
   "execution_count": null,
   "metadata": {},
   "outputs": [],
   "source": []
  }
 ],
 "metadata": {
  "kernelspec": {
   "display_name": "Python 3",
   "language": "python",
   "name": "python3"
  },
  "language_info": {
   "codemirror_mode": {
    "name": "ipython",
    "version": 3
   },
   "file_extension": ".py",
   "mimetype": "text/x-python",
   "name": "python",
   "nbconvert_exporter": "python",
   "pygments_lexer": "ipython3",
   "version": "3.9.0"
  }
 },
 "nbformat": 4,
 "nbformat_minor": 4
}
