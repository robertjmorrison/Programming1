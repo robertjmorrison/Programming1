{
 "cells": [
  {
   "cell_type": "markdown",
   "metadata": {},
   "source": [
    "For these exercises, you may find it useful to copy the code into Jupyter Lab and test it to make sure your solution is correct. \n",
    "\n",
    "Q1) Can you convert the following pseudocode to python? (3) \n",
    "\n",
    "SIZE = get user input “what is the file size (MB)?”\n",
    "IF size > 100 THEN\n",
    "\tPRINT “too big!”\n",
    "ELSE\n",
    "\tPRINT “okay!”\n",
    "ENDIF\n",
    "PRINT “your file is “ + SIZE + “ in total.”"
   ]
  },
  {
   "cell_type": "code",
   "execution_count": 22,
   "metadata": {},
   "outputs": [
    {
     "name": "stdin",
     "output_type": "stream",
     "text": [
      "What is the file size (MB)? 50\n"
     ]
    },
    {
     "name": "stdout",
     "output_type": "stream",
     "text": [
      "Okay!\n",
      "Your File is 50 in total\n"
     ]
    }
   ],
   "source": [
    "size = int(input(\"What is the file size (MB)?\"))\n",
    "if(size > 100):\n",
    "    print(\"Too big\") \n",
    "else:\n",
    "    print(\"Okay!\")\n",
    "    print(\"Your File is \" + str(size) + \" in total\")"
   ]
  },
  {
   "cell_type": "markdown",
   "metadata": {},
   "source": [
    "Q2) Why is this code not working? Can you correct it? (3) "
   ]
  },
  {
   "cell_type": "code",
   "execution_count": 4,
   "metadata": {},
   "outputs": [
    {
     "ename": "NameError",
     "evalue": "name 'beijing' is not defined",
     "output_type": "error",
     "traceback": [
      "\u001b[0;31m---------------------------------------------------------------------------\u001b[0m",
      "\u001b[0;31mNameError\u001b[0m                                 Traceback (most recent call last)",
      "\u001b[0;32m<ipython-input-4-251ba3d0494f>\u001b[0m in \u001b[0;36m<module>\u001b[0;34m\u001b[0m\n\u001b[1;32m      1\u001b[0m \u001b[0;31m#(a)\u001b[0m\u001b[0;34m\u001b[0m\u001b[0;34m\u001b[0m\u001b[0;34m\u001b[0m\u001b[0m\n\u001b[0;32m----> 2\u001b[0;31m \u001b[0mprint\u001b[0m\u001b[0;34m(\u001b[0m\u001b[0;34m\"The capital of China is \"\u001b[0m \u001b[0;34m+\u001b[0m \u001b[0mbeijing\u001b[0m\u001b[0;34m)\u001b[0m\u001b[0;34m\u001b[0m\u001b[0;34m\u001b[0m\u001b[0m\n\u001b[0m",
      "\u001b[0;31mNameError\u001b[0m: name 'beijing' is not defined"
     ]
    }
   ],
   "source": [
    "#(a)\n",
    "print(\"The capital of China is \" + beijing) "
   ]
  },
  {
   "cell_type": "markdown",
   "metadata": {},
   "source": [
    "This code can't work because beijing is not inside \"\". Print function can only print string which is everything inside \"\"."
   ]
  },
  {
   "cell_type": "code",
   "execution_count": 5,
   "metadata": {},
   "outputs": [
    {
     "name": "stdout",
     "output_type": "stream",
     "text": [
      "The capital of China is Beijing\n"
     ]
    }
   ],
   "source": [
    "#(a)Correction \n",
    "print(\"The capital of China is Beijing\") "
   ]
  },
  {
   "cell_type": "code",
   "execution_count": 11,
   "metadata": {},
   "outputs": [
    {
     "ename": "TypeError",
     "evalue": "can't multiply sequence by non-int of type 'str'",
     "output_type": "error",
     "traceback": [
      "\u001b[0;31m---------------------------------------------------------------------------\u001b[0m",
      "\u001b[0;31mTypeError\u001b[0m                                 Traceback (most recent call last)",
      "\u001b[0;32m<ipython-input-11-c1f2720551d7>\u001b[0m in \u001b[0;36m<module>\u001b[0;34m\u001b[0m\n\u001b[1;32m      2\u001b[0m \u001b[0mnum1\u001b[0m \u001b[0;34m=\u001b[0m \u001b[0;34m\"2\"\u001b[0m\u001b[0;34m\u001b[0m\u001b[0;34m\u001b[0m\u001b[0m\n\u001b[1;32m      3\u001b[0m \u001b[0mnum2\u001b[0m \u001b[0;34m=\u001b[0m \u001b[0;34m\"3\"\u001b[0m\u001b[0;34m\u001b[0m\u001b[0;34m\u001b[0m\u001b[0m\n\u001b[0;32m----> 4\u001b[0;31m \u001b[0mnum3\u001b[0m \u001b[0;34m=\u001b[0m \u001b[0mnum1\u001b[0m \u001b[0;34m*\u001b[0m \u001b[0mnum2\u001b[0m\u001b[0;34m\u001b[0m\u001b[0;34m\u001b[0m\u001b[0m\n\u001b[0m\u001b[1;32m      5\u001b[0m \u001b[0mprint\u001b[0m\u001b[0;34m(\u001b[0m\u001b[0mnum3\u001b[0m\u001b[0;34m)\u001b[0m\u001b[0;34m\u001b[0m\u001b[0;34m\u001b[0m\u001b[0m\n",
      "\u001b[0;31mTypeError\u001b[0m: can't multiply sequence by non-int of type 'str'"
     ]
    }
   ],
   "source": [
    "#(b)\n",
    "num1 = \"2\"\n",
    "num2 = \"3\"\n",
    "num3 = num1 * num2\n",
    "print(num3)"
   ]
  },
  {
   "cell_type": "markdown",
   "metadata": {},
   "source": [
    "This code cannot work because we can't use string to do calculation, we need to use number instead of string and then after the calculation convert it to string to print it out. "
   ]
  },
  {
   "cell_type": "code",
   "execution_count": 10,
   "metadata": {},
   "outputs": [
    {
     "name": "stdout",
     "output_type": "stream",
     "text": [
      "6\n"
     ]
    }
   ],
   "source": [
    "#(b)Correction\n",
    "num1 = 2\n",
    "num2 = 3\n",
    "num3 = str(num1 * num2)\n",
    "print(num3)"
   ]
  },
  {
   "cell_type": "code",
   "execution_count": 12,
   "metadata": {},
   "outputs": [
    {
     "name": "stdin",
     "output_type": "stream",
     "text": [
      "Choosea city Edinburgh\n",
      "Choose a price (£) 500\n"
     ]
    },
    {
     "ename": "TypeError",
     "evalue": "can't multiply sequence by non-int of type 'float'",
     "output_type": "error",
     "traceback": [
      "\u001b[0;31m---------------------------------------------------------------------------\u001b[0m",
      "\u001b[0;31mTypeError\u001b[0m                                 Traceback (most recent call last)",
      "\u001b[0;32m<ipython-input-12-01d7f7961f99>\u001b[0m in \u001b[0;36m<module>\u001b[0;34m\u001b[0m\n\u001b[1;32m      3\u001b[0m \u001b[0mprice\u001b[0m \u001b[0;34m=\u001b[0m \u001b[0minput\u001b[0m\u001b[0;34m(\u001b[0m\u001b[0;34m\"Choose a price (£)\"\u001b[0m\u001b[0;34m)\u001b[0m\u001b[0;34m\u001b[0m\u001b[0;34m\u001b[0m\u001b[0m\n\u001b[1;32m      4\u001b[0m \u001b[0mdiscount\u001b[0m \u001b[0;34m=\u001b[0m \u001b[0;36m0.9\u001b[0m\u001b[0;34m\u001b[0m\u001b[0;34m\u001b[0m\u001b[0m\n\u001b[0;32m----> 5\u001b[0;31m \u001b[0mprint\u001b[0m\u001b[0;34m(\u001b[0m\u001b[0;34m\"A flight to \"\u001b[0m \u001b[0;34m+\u001b[0m \u001b[0mcity\u001b[0m \u001b[0;34m+\u001b[0m \u001b[0;34m\"costs £\"\u001b[0m \u001b[0;34m+\u001b[0m \u001b[0;34m(\u001b[0m\u001b[0mdiscount\u001b[0m \u001b[0;34m*\u001b[0m \u001b[0mprice\u001b[0m\u001b[0;34m)\u001b[0m\u001b[0;34m)\u001b[0m\u001b[0;34m\u001b[0m\u001b[0;34m\u001b[0m\u001b[0m\n\u001b[0m",
      "\u001b[0;31mTypeError\u001b[0m: can't multiply sequence by non-int of type 'float'"
     ]
    }
   ],
   "source": [
    "#(c)\n",
    "city = input(\"Choosea city\")\n",
    "price = input(\"Choose a price (£)\")\n",
    "discount = 0.9\n",
    "print(\"A flight to \" + city + \"costs £\" + (discount * price))"
   ]
  },
  {
   "cell_type": "markdown",
   "metadata": {},
   "source": [
    "This code cannot work because variable price is a string. We can't use string to do multiplication. So, we need to convert it to interger and then after calculation, convert it back and then print it.  "
   ]
  },
  {
   "cell_type": "code",
   "execution_count": 14,
   "metadata": {},
   "outputs": [
    {
     "name": "stdin",
     "output_type": "stream",
     "text": [
      "Choosea city Edinburgh\n",
      "Choose a price (£) 500\n"
     ]
    },
    {
     "name": "stdout",
     "output_type": "stream",
     "text": [
      "A flight to Edinburghcosts £ 450.0\n"
     ]
    }
   ],
   "source": [
    "#(c)Correction\n",
    "city = input(\"Choosea city\")\n",
    "price = int(input(\"Choose a price (£)\"))\n",
    "discount = 0.9\n",
    "print(\"A flight to \" + city + \"costs £ \" + str(discount * price))"
   ]
  },
  {
   "cell_type": "markdown",
   "metadata": {},
   "source": [
    "Give two examples of a function in Python. (2)"
   ]
  },
  {
   "cell_type": "markdown",
   "metadata": {},
   "source": [
    "1. addition "
   ]
  },
  {
   "cell_type": "code",
   "execution_count": 23,
   "metadata": {},
   "outputs": [
    {
     "name": "stdout",
     "output_type": "stream",
     "text": [
      "6\n"
     ]
    }
   ],
   "source": [
    "print(2+4)"
   ]
  },
  {
   "cell_type": "markdown",
   "metadata": {},
   "source": [
    "2. if function "
   ]
  },
  {
   "cell_type": "code",
   "execution_count": 6,
   "metadata": {},
   "outputs": [
    {
     "name": "stdin",
     "output_type": "stream",
     "text": [
      "Give me a integer between 1-10, \n",
      "    If your number is a squared number, you will get 1 point. \n",
      "    If your number is a prime number, you will get 2 points. \n",
      "    If your number is both a prime number and also it is an \n",
      "    even number you will get 10 points. 2\n"
     ]
    },
    {
     "name": "stdout",
     "output_type": "stream",
     "text": [
      "Wow, 10 points are added!\n",
      "Your score is now: 10\n"
     ]
    },
    {
     "name": "stdin",
     "output_type": "stream",
     "text": [
      "Give me a integer between 1-10, \n",
      "    If your number is a squared number, you will get 1 point. \n",
      "    If your number is a prime number, you will get 2 points. \n",
      "    If your number is both a prime number and also it is an \n",
      "    even number you will get 10 points. 3\n"
     ]
    },
    {
     "name": "stdout",
     "output_type": "stream",
     "text": [
      "Wow, 2 points are added!\n",
      "Your score is now: 12\n"
     ]
    },
    {
     "name": "stdin",
     "output_type": "stream",
     "text": [
      "Give me a integer between 1-10, \n",
      "    If your number is a squared number, you will get 1 point. \n",
      "    If your number is a prime number, you will get 2 points. \n",
      "    If your number is both a prime number and also it is an \n",
      "    even number you will get 10 points. 9\n"
     ]
    },
    {
     "name": "stdout",
     "output_type": "stream",
     "text": [
      "Wow, 1 point is added!\n",
      "Your score is now: 13\n"
     ]
    },
    {
     "name": "stdin",
     "output_type": "stream",
     "text": [
      "Give me a integer between 1-10, \n",
      "    If your number is a squared number, you will get 1 point. \n",
      "    If your number is a prime number, you will get 2 points. \n",
      "    If your number is both a prime number and also it is an \n",
      "    even number you will get 10 points. 4\n"
     ]
    },
    {
     "name": "stdout",
     "output_type": "stream",
     "text": [
      "Wow, 1 point is added!\n",
      "Your score is now: 14\n"
     ]
    },
    {
     "name": "stdin",
     "output_type": "stream",
     "text": [
      "Give me a integer between 1-10, \n",
      "    If your number is a squared number, you will get 1 point. \n",
      "    If your number is a prime number, you will get 2 points. \n",
      "    If your number is both a prime number and also it is an \n",
      "    even number you will get 10 points. 1\n"
     ]
    },
    {
     "name": "stdout",
     "output_type": "stream",
     "text": [
      "Wow, 1 point is added!\n",
      "Your score is now: 15\n"
     ]
    },
    {
     "name": "stdin",
     "output_type": "stream",
     "text": [
      "Give me a integer between 1-10, \n",
      "    If your number is a squared number, you will get 1 point. \n",
      "    If your number is a prime number, you will get 2 points. \n",
      "    If your number is both a prime number and also it is an \n",
      "    even number you will get 10 points. 7\n"
     ]
    },
    {
     "name": "stdout",
     "output_type": "stream",
     "text": [
      "Wow, 2 points are added!\n",
      "Your score is now: 17\n"
     ]
    },
    {
     "name": "stdin",
     "output_type": "stream",
     "text": [
      "Give me a integer between 1-10, \n",
      "    If your number is a squared number, you will get 1 point. \n",
      "    If your number is a prime number, you will get 2 points. \n",
      "    If your number is both a prime number and also it is an \n",
      "    even number you will get 10 points. 8\n"
     ]
    },
    {
     "name": "stdout",
     "output_type": "stream",
     "text": [
      "Oops, try another number :)\n",
      "Your score is now: 17\n"
     ]
    },
    {
     "name": "stdin",
     "output_type": "stream",
     "text": [
      "Give me a integer between 1-10, \n",
      "    If your number is a squared number, you will get 1 point. \n",
      "    If your number is a prime number, you will get 2 points. \n",
      "    If your number is both a prime number and also it is an \n",
      "    even number you will get 10 points. 4\n"
     ]
    },
    {
     "name": "stdout",
     "output_type": "stream",
     "text": [
      "Wow, 1 point is added!\n",
      "Your score is now: 18\n"
     ]
    },
    {
     "name": "stdin",
     "output_type": "stream",
     "text": [
      "Give me a integer between 1-10, \n",
      "    If your number is a squared number, you will get 1 point. \n",
      "    If your number is a prime number, you will get 2 points. \n",
      "    If your number is both a prime number and also it is an \n",
      "    even number you will get 10 points. 3\n"
     ]
    },
    {
     "name": "stdout",
     "output_type": "stream",
     "text": [
      "Wow, 2 points are added!\n",
      "Your score is now: 20\n"
     ]
    },
    {
     "name": "stdin",
     "output_type": "stream",
     "text": [
      "Give me a integer between 1-10, \n",
      "    If your number is a squared number, you will get 1 point. \n",
      "    If your number is a prime number, you will get 2 points. \n",
      "    If your number is both a prime number and also it is an \n",
      "    even number you will get 10 points. 6\n"
     ]
    },
    {
     "name": "stdout",
     "output_type": "stream",
     "text": [
      "Oops, try another number :)\n",
      "Your score is now: 20\n"
     ]
    },
    {
     "name": "stdin",
     "output_type": "stream",
     "text": [
      "Give me a integer between 1-10, \n",
      "    If your number is a squared number, you will get 1 point. \n",
      "    If your number is a prime number, you will get 2 points. \n",
      "    If your number is both a prime number and also it is an \n",
      "    even number you will get 10 points. 9\n"
     ]
    },
    {
     "name": "stdout",
     "output_type": "stream",
     "text": [
      "Wow, 1 point is added!\n",
      "Your score is now: 21\n"
     ]
    },
    {
     "name": "stdin",
     "output_type": "stream",
     "text": [
      "Give me a integer between 1-10, \n",
      "    If your number is a squared number, you will get 1 point. \n",
      "    If your number is a prime number, you will get 2 points. \n",
      "    If your number is both a prime number and also it is an \n",
      "    even number you will get 10 points. 2\n"
     ]
    },
    {
     "name": "stdout",
     "output_type": "stream",
     "text": [
      "Wow, 10 points are added!\n",
      "Your score is now: 31\n",
      "Your score is above or equals to 30. Game over. \n"
     ]
    }
   ],
   "source": [
    "#Number machine game\n",
    "sco = 0\n",
    "\n",
    "while sco < 30:\n",
    "    num = input(\"\"\"Give me a integer between 1-10, \n",
    "    If your number is a squared number, you will get 1 point. \n",
    "    If your number is a prime number, you will get 2 points. \n",
    "    If your number is both a prime number and also it is an \n",
    "    even number you will get 10 points.\"\"\")\n",
    "    #Both prime and even = 2\n",
    "    if (num == \"2\"):\n",
    "        sco = sco + 10\n",
    "        print(\"Wow, 10 points are added!\")\n",
    "    #All square numbers\n",
    "    elif (num == \"1\"):\n",
    "        sco = sco + 1\n",
    "        print(\"Wow, 1 point is added!\")\n",
    "    elif (num == \"4\"):\n",
    "        sco = sco + 1\n",
    "        print(\"Wow, 1 point is added!\")\n",
    "    elif (num == \"9\"):\n",
    "        sco = sco + 1\n",
    "        print(\"Wow, 1 point is added!\")\n",
    "    #All prime numbers \n",
    "    elif (num == \"3\"):\n",
    "        sco =  sco + 2\n",
    "        print(\"Wow, 2 points are added!\")\n",
    "    elif (num == \"5\"):\n",
    "        sco =  sco + 2\n",
    "        print(\"Wow, 2 points are added!\")\n",
    "    elif (num == \"7\"):\n",
    "        sco =  sco + 2\n",
    "        print(\"Wow, 2 points are added!\")\n",
    "    else:\n",
    "        print(\"Oops, try another number :)\")\n",
    "    \n",
    "    \n",
    "    print(\"Your score is now: \" + str(sco))\n",
    "    \n",
    "print(\"Your score is above or equals to 30. Game over. \")\n"
   ]
  }
 ],
 "metadata": {
  "kernelspec": {
   "display_name": "Python 3",
   "language": "python",
   "name": "python3"
  },
  "language_info": {
   "codemirror_mode": {
    "name": "ipython",
    "version": 3
   },
   "file_extension": ".py",
   "mimetype": "text/x-python",
   "name": "python",
   "nbconvert_exporter": "python",
   "pygments_lexer": "ipython3",
   "version": "3.9.0"
  }
 },
 "nbformat": 4,
 "nbformat_minor": 4
}
